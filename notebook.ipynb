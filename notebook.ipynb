{
 "cells": [
  {
   "cell_type": "code",
   "execution_count": 8,
   "metadata": {},
   "outputs": [],
   "source": [
    "import pandas as pd\n",
    "import numpy as np\n",
    "import matplotlib.pyplot as plt\n",
    "import seaborn as sns"
   ]
  },
  {
   "cell_type": "code",
   "execution_count": 9,
   "metadata": {},
   "outputs": [],
   "source": [
    "df  = pd.read_csv('wine_dataset.csv')"
   ]
  },
  {
   "cell_type": "code",
   "execution_count": 10,
   "metadata": {},
   "outputs": [
    {
     "data": {
      "text/html": [
       "<div>\n",
       "<style scoped>\n",
       "    .dataframe tbody tr th:only-of-type {\n",
       "        vertical-align: middle;\n",
       "    }\n",
       "\n",
       "    .dataframe tbody tr th {\n",
       "        vertical-align: top;\n",
       "    }\n",
       "\n",
       "    .dataframe thead th {\n",
       "        text-align: right;\n",
       "    }\n",
       "</style>\n",
       "<table border=\"1\" class=\"dataframe\">\n",
       "  <thead>\n",
       "    <tr style=\"text-align: right;\">\n",
       "      <th></th>\n",
       "      <th>index</th>\n",
       "      <th>alcohol</th>\n",
       "      <th>chlorides</th>\n",
       "      <th>citric acid</th>\n",
       "      <th>density</th>\n",
       "      <th>fixed acidity</th>\n",
       "      <th>free sulfur dioxide</th>\n",
       "      <th>pH</th>\n",
       "      <th>residual sugar</th>\n",
       "      <th>sulphates</th>\n",
       "      <th>total sulfur dioxide</th>\n",
       "      <th>type</th>\n",
       "      <th>volatile acidity</th>\n",
       "      <th>price</th>\n",
       "      <th>cost</th>\n",
       "      <th>sold</th>\n",
       "    </tr>\n",
       "  </thead>\n",
       "  <tbody>\n",
       "    <tr>\n",
       "      <th>0</th>\n",
       "      <td>1</td>\n",
       "      <td>-1.250764</td>\n",
       "      <td>0.512826</td>\n",
       "      <td>2.349104</td>\n",
       "      <td>2.035356</td>\n",
       "      <td>3.382119</td>\n",
       "      <td>-1.156395</td>\n",
       "      <td>0.195906</td>\n",
       "      <td>-0.681666</td>\n",
       "      <td>0.260284</td>\n",
       "      <td>-1.216248</td>\n",
       "      <td>white</td>\n",
       "      <td>1.459786</td>\n",
       "      <td>44.24</td>\n",
       "      <td>13.70</td>\n",
       "      <td>9775</td>\n",
       "    </tr>\n",
       "    <tr>\n",
       "      <th>1</th>\n",
       "      <td>2</td>\n",
       "      <td>0.677615</td>\n",
       "      <td>1.397691</td>\n",
       "      <td>-0.678741</td>\n",
       "      <td>2.102052</td>\n",
       "      <td>2.225099</td>\n",
       "      <td>-1.100055</td>\n",
       "      <td>1.315398</td>\n",
       "      <td>-0.429449</td>\n",
       "      <td>0.730695</td>\n",
       "      <td>-0.526249</td>\n",
       "      <td>white</td>\n",
       "      <td>3.616052</td>\n",
       "      <td>37.67</td>\n",
       "      <td>5.84</td>\n",
       "      <td>4681</td>\n",
       "    </tr>\n",
       "    <tr>\n",
       "      <th>2</th>\n",
       "      <td>3</td>\n",
       "      <td>0.342245</td>\n",
       "      <td>2.311099</td>\n",
       "      <td>-2.192664</td>\n",
       "      <td>0.021131</td>\n",
       "      <td>0.296732</td>\n",
       "      <td>-1.438095</td>\n",
       "      <td>1.750756</td>\n",
       "      <td>-0.702685</td>\n",
       "      <td>-0.882144</td>\n",
       "      <td>-1.888554</td>\n",
       "      <td>white</td>\n",
       "      <td>7.533774</td>\n",
       "      <td>53.34</td>\n",
       "      <td>11.67</td>\n",
       "      <td>8386</td>\n",
       "    </tr>\n",
       "    <tr>\n",
       "      <th>3</th>\n",
       "      <td>4</td>\n",
       "      <td>0.426087</td>\n",
       "      <td>0.798266</td>\n",
       "      <td>-2.055034</td>\n",
       "      <td>1.408412</td>\n",
       "      <td>0.836674</td>\n",
       "      <td>-1.381755</td>\n",
       "      <td>1.626368</td>\n",
       "      <td>-0.429449</td>\n",
       "      <td>-0.277330</td>\n",
       "      <td>-1.853169</td>\n",
       "      <td>white</td>\n",
       "      <td>4.132341</td>\n",
       "      <td>51.18</td>\n",
       "      <td>14.02</td>\n",
       "      <td>8676</td>\n",
       "    </tr>\n",
       "    <tr>\n",
       "      <th>4</th>\n",
       "      <td>5</td>\n",
       "      <td>0.174560</td>\n",
       "      <td>1.169338</td>\n",
       "      <td>-2.192664</td>\n",
       "      <td>0.634736</td>\n",
       "      <td>0.142462</td>\n",
       "      <td>-1.438095</td>\n",
       "      <td>2.559278</td>\n",
       "      <td>-0.250795</td>\n",
       "      <td>0.058679</td>\n",
       "      <td>-1.800093</td>\n",
       "      <td>white</td>\n",
       "      <td>5.134549</td>\n",
       "      <td>43.43</td>\n",
       "      <td>13.43</td>\n",
       "      <td>9924</td>\n",
       "    </tr>\n",
       "  </tbody>\n",
       "</table>\n",
       "</div>"
      ],
      "text/plain": [
       "   index   alcohol  chlorides  citric acid   density  fixed acidity  \\\n",
       "0      1 -1.250764   0.512826     2.349104  2.035356       3.382119   \n",
       "1      2  0.677615   1.397691    -0.678741  2.102052       2.225099   \n",
       "2      3  0.342245   2.311099    -2.192664  0.021131       0.296732   \n",
       "3      4  0.426087   0.798266    -2.055034  1.408412       0.836674   \n",
       "4      5  0.174560   1.169338    -2.192664  0.634736       0.142462   \n",
       "\n",
       "   free sulfur dioxide        pH  residual sugar  sulphates  \\\n",
       "0            -1.156395  0.195906       -0.681666   0.260284   \n",
       "1            -1.100055  1.315398       -0.429449   0.730695   \n",
       "2            -1.438095  1.750756       -0.702685  -0.882144   \n",
       "3            -1.381755  1.626368       -0.429449  -0.277330   \n",
       "4            -1.438095  2.559278       -0.250795   0.058679   \n",
       "\n",
       "   total sulfur dioxide   type  volatile acidity  price   cost  sold  \n",
       "0             -1.216248  white          1.459786  44.24  13.70  9775  \n",
       "1             -0.526249  white          3.616052  37.67   5.84  4681  \n",
       "2             -1.888554  white          7.533774  53.34  11.67  8386  \n",
       "3             -1.853169  white          4.132341  51.18  14.02  8676  \n",
       "4             -1.800093  white          5.134549  43.43  13.43  9924  "
      ]
     },
     "execution_count": 10,
     "metadata": {},
     "output_type": "execute_result"
    }
   ],
   "source": [
    "df.head()"
   ]
  },
  {
   "cell_type": "code",
   "execution_count": 11,
   "metadata": {},
   "outputs": [
    {
     "data": {
      "text/html": [
       "<div>\n",
       "<style scoped>\n",
       "    .dataframe tbody tr th:only-of-type {\n",
       "        vertical-align: middle;\n",
       "    }\n",
       "\n",
       "    .dataframe tbody tr th {\n",
       "        vertical-align: top;\n",
       "    }\n",
       "\n",
       "    .dataframe thead th {\n",
       "        text-align: right;\n",
       "    }\n",
       "</style>\n",
       "<table border=\"1\" class=\"dataframe\">\n",
       "  <thead>\n",
       "    <tr style=\"text-align: right;\">\n",
       "      <th></th>\n",
       "      <th>index</th>\n",
       "      <th>alcohol</th>\n",
       "      <th>chlorides</th>\n",
       "      <th>citric acid</th>\n",
       "      <th>density</th>\n",
       "      <th>fixed acidity</th>\n",
       "      <th>free sulfur dioxide</th>\n",
       "      <th>pH</th>\n",
       "      <th>residual sugar</th>\n",
       "      <th>sulphates</th>\n",
       "      <th>total sulfur dioxide</th>\n",
       "      <th>volatile acidity</th>\n",
       "      <th>price</th>\n",
       "      <th>cost</th>\n",
       "      <th>sold</th>\n",
       "    </tr>\n",
       "  </thead>\n",
       "  <tbody>\n",
       "    <tr>\n",
       "      <th>count</th>\n",
       "      <td>6497.000000</td>\n",
       "      <td>6.497000e+03</td>\n",
       "      <td>6.497000e+03</td>\n",
       "      <td>6.497000e+03</td>\n",
       "      <td>6.497000e+03</td>\n",
       "      <td>6.497000e+03</td>\n",
       "      <td>6.497000e+03</td>\n",
       "      <td>6.497000e+03</td>\n",
       "      <td>6.497000e+03</td>\n",
       "      <td>6.497000e+03</td>\n",
       "      <td>6.497000e+03</td>\n",
       "      <td>6.497000e+03</td>\n",
       "      <td>6497.000000</td>\n",
       "      <td>6497.000000</td>\n",
       "      <td>6497.000000</td>\n",
       "    </tr>\n",
       "    <tr>\n",
       "      <th>mean</th>\n",
       "      <td>3249.000000</td>\n",
       "      <td>-3.129882e-15</td>\n",
       "      <td>-9.268662e-17</td>\n",
       "      <td>-7.000711e-16</td>\n",
       "      <td>-2.636818e-15</td>\n",
       "      <td>-1.734115e-16</td>\n",
       "      <td>4.812711e-16</td>\n",
       "      <td>-4.842124e-16</td>\n",
       "      <td>-8.358542e-16</td>\n",
       "      <td>6.395103e-16</td>\n",
       "      <td>-3.865531e-16</td>\n",
       "      <td>-8.079662e-16</td>\n",
       "      <td>31.164390</td>\n",
       "      <td>1.243143</td>\n",
       "      <td>1358.572110</td>\n",
       "    </tr>\n",
       "    <tr>\n",
       "      <th>std</th>\n",
       "      <td>1875.666681</td>\n",
       "      <td>1.000000e+00</td>\n",
       "      <td>1.000000e+00</td>\n",
       "      <td>1.000000e+00</td>\n",
       "      <td>1.000000e+00</td>\n",
       "      <td>1.000000e+00</td>\n",
       "      <td>1.000000e+00</td>\n",
       "      <td>1.000000e+00</td>\n",
       "      <td>1.000000e+00</td>\n",
       "      <td>1.000000e+00</td>\n",
       "      <td>1.000000e+00</td>\n",
       "      <td>1.000000e+00</td>\n",
       "      <td>10.107653</td>\n",
       "      <td>2.116336</td>\n",
       "      <td>1874.375193</td>\n",
       "    </tr>\n",
       "    <tr>\n",
       "      <th>min</th>\n",
       "      <td>1.000000</td>\n",
       "      <td>-2.089189e+00</td>\n",
       "      <td>-1.342536e+00</td>\n",
       "      <td>-2.192664e+00</td>\n",
       "      <td>-2.529997e+00</td>\n",
       "      <td>-2.634386e+00</td>\n",
       "      <td>-1.663455e+00</td>\n",
       "      <td>-3.100376e+00</td>\n",
       "      <td>-1.017956e+00</td>\n",
       "      <td>-2.091774e+00</td>\n",
       "      <td>-1.941631e+00</td>\n",
       "      <td>-1.577208e+00</td>\n",
       "      <td>0.180000</td>\n",
       "      <td>-3.560000</td>\n",
       "      <td>97.000000</td>\n",
       "    </tr>\n",
       "    <tr>\n",
       "      <th>25%</th>\n",
       "      <td>1625.000000</td>\n",
       "      <td>-8.315512e-01</td>\n",
       "      <td>-5.147590e-01</td>\n",
       "      <td>-4.722972e-01</td>\n",
       "      <td>-7.858922e-01</td>\n",
       "      <td>-6.288845e-01</td>\n",
       "      <td>-7.620156e-01</td>\n",
       "      <td>-6.748102e-01</td>\n",
       "      <td>-7.657389e-01</td>\n",
       "      <td>-6.805395e-01</td>\n",
       "      <td>-6.854795e-01</td>\n",
       "      <td>-6.661100e-01</td>\n",
       "      <td>24.430000</td>\n",
       "      <td>0.000000</td>\n",
       "      <td>128.000000</td>\n",
       "    </tr>\n",
       "    <tr>\n",
       "      <th>50%</th>\n",
       "      <td>3249.000000</td>\n",
       "      <td>-1.608107e-01</td>\n",
       "      <td>-2.578628e-01</td>\n",
       "      <td>-5.940918e-02</td>\n",
       "      <td>6.448391e-02</td>\n",
       "      <td>-1.660764e-01</td>\n",
       "      <td>-8.593639e-02</td>\n",
       "      <td>-5.287017e-02</td>\n",
       "      <td>-5.135217e-01</td>\n",
       "      <td>-1.429263e-01</td>\n",
       "      <td>3.990360e-02</td>\n",
       "      <td>-3.016707e-01</td>\n",
       "      <td>31.120000</td>\n",
       "      <td>0.890000</td>\n",
       "      <td>963.000000</td>\n",
       "    </tr>\n",
       "    <tr>\n",
       "      <th>75%</th>\n",
       "      <td>4873.000000</td>\n",
       "      <td>6.776148e-01</td>\n",
       "      <td>2.559297e-01</td>\n",
       "      <td>4.911081e-01</td>\n",
       "      <td>7.647937e-01</td>\n",
       "      <td>3.738663e-01</td>\n",
       "      <td>5.901428e-01</td>\n",
       "      <td>6.312639e-01</td>\n",
       "      <td>5.584015e-01</td>\n",
       "      <td>4.618885e-01</td>\n",
       "      <td>7.122099e-01</td>\n",
       "      <td>3.664680e-01</td>\n",
       "      <td>37.870000</td>\n",
       "      <td>1.920000</td>\n",
       "      <td>1766.000000</td>\n",
       "    </tr>\n",
       "    <tr>\n",
       "      <th>max</th>\n",
       "      <td>6497.000000</td>\n",
       "      <td>3.695947e+00</td>\n",
       "      <td>1.584097e+01</td>\n",
       "      <td>9.230570e+00</td>\n",
       "      <td>1.476765e+01</td>\n",
       "      <td>6.698910e+00</td>\n",
       "      <td>1.456245e+01</td>\n",
       "      <td>4.922650e+00</td>\n",
       "      <td>1.268585e+01</td>\n",
       "      <td>9.870119e+00</td>\n",
       "      <td>5.736815e+00</td>\n",
       "      <td>7.533774e+00</td>\n",
       "      <td>72.620000</td>\n",
       "      <td>18.250000</td>\n",
       "      <td>27564.000000</td>\n",
       "    </tr>\n",
       "  </tbody>\n",
       "</table>\n",
       "</div>"
      ],
      "text/plain": [
       "             index       alcohol     chlorides   citric acid       density  \\\n",
       "count  6497.000000  6.497000e+03  6.497000e+03  6.497000e+03  6.497000e+03   \n",
       "mean   3249.000000 -3.129882e-15 -9.268662e-17 -7.000711e-16 -2.636818e-15   \n",
       "std    1875.666681  1.000000e+00  1.000000e+00  1.000000e+00  1.000000e+00   \n",
       "min       1.000000 -2.089189e+00 -1.342536e+00 -2.192664e+00 -2.529997e+00   \n",
       "25%    1625.000000 -8.315512e-01 -5.147590e-01 -4.722972e-01 -7.858922e-01   \n",
       "50%    3249.000000 -1.608107e-01 -2.578628e-01 -5.940918e-02  6.448391e-02   \n",
       "75%    4873.000000  6.776148e-01  2.559297e-01  4.911081e-01  7.647937e-01   \n",
       "max    6497.000000  3.695947e+00  1.584097e+01  9.230570e+00  1.476765e+01   \n",
       "\n",
       "       fixed acidity  free sulfur dioxide            pH  residual sugar  \\\n",
       "count   6.497000e+03         6.497000e+03  6.497000e+03    6.497000e+03   \n",
       "mean   -1.734115e-16         4.812711e-16 -4.842124e-16   -8.358542e-16   \n",
       "std     1.000000e+00         1.000000e+00  1.000000e+00    1.000000e+00   \n",
       "min    -2.634386e+00        -1.663455e+00 -3.100376e+00   -1.017956e+00   \n",
       "25%    -6.288845e-01        -7.620156e-01 -6.748102e-01   -7.657389e-01   \n",
       "50%    -1.660764e-01        -8.593639e-02 -5.287017e-02   -5.135217e-01   \n",
       "75%     3.738663e-01         5.901428e-01  6.312639e-01    5.584015e-01   \n",
       "max     6.698910e+00         1.456245e+01  4.922650e+00    1.268585e+01   \n",
       "\n",
       "          sulphates  total sulfur dioxide  volatile acidity        price  \\\n",
       "count  6.497000e+03          6.497000e+03      6.497000e+03  6497.000000   \n",
       "mean   6.395103e-16         -3.865531e-16     -8.079662e-16    31.164390   \n",
       "std    1.000000e+00          1.000000e+00      1.000000e+00    10.107653   \n",
       "min   -2.091774e+00         -1.941631e+00     -1.577208e+00     0.180000   \n",
       "25%   -6.805395e-01         -6.854795e-01     -6.661100e-01    24.430000   \n",
       "50%   -1.429263e-01          3.990360e-02     -3.016707e-01    31.120000   \n",
       "75%    4.618885e-01          7.122099e-01      3.664680e-01    37.870000   \n",
       "max    9.870119e+00          5.736815e+00      7.533774e+00    72.620000   \n",
       "\n",
       "              cost          sold  \n",
       "count  6497.000000   6497.000000  \n",
       "mean      1.243143   1358.572110  \n",
       "std       2.116336   1874.375193  \n",
       "min      -3.560000     97.000000  \n",
       "25%       0.000000    128.000000  \n",
       "50%       0.890000    963.000000  \n",
       "75%       1.920000   1766.000000  \n",
       "max      18.250000  27564.000000  "
      ]
     },
     "execution_count": 11,
     "metadata": {},
     "output_type": "execute_result"
    }
   ],
   "source": [
    "df.describe()"
   ]
  },
  {
   "cell_type": "code",
   "execution_count": 18,
   "metadata": {},
   "outputs": [
    {
     "data": {
      "image/png": "[encoded data removed]",
      "text/plain": [
       "<Figure size 864x864 with 16 Axes>"
      ]
     },
     "metadata": {
      "needs_background": "light"
     },
     "output_type": "display_data"
    }
   ],
   "source": [
    "ax = df.hist(bins=25, grid=False, figsize=(12,12), zorder=2, rwidth=0.9)\n",
    "plt.suptitle(\"Features\")\n",
    "plt.show()"
   ]
  },
  {
   "cell_type": "code",
   "execution_count": 15,
   "metadata": {},
   "outputs": [
    {
     "data": {
      "text/plain": [
       "Index(['index', 'alcohol', 'chlorides', 'citric acid', 'density',\n",
       "       'fixed acidity', 'free sulfur dioxide', 'pH', 'residual sugar',\n",
       "       'sulphates', 'total sulfur dioxide', 'type', 'volatile acidity',\n",
       "       'price', 'cost', 'sold'],\n",
       "      dtype='object')"
      ]
     },
     "execution_count": 15,
     "metadata": {},
     "output_type": "execute_result"
    }
   ],
   "source": [
    "df.columns"
   ]
  },
  {
   "cell_type": "code",
   "execution_count": 16,
   "metadata": {},
   "outputs": [
    {
     "data": {
      "text/plain": [
       "0       30.54\n",
       "1       31.83\n",
       "2       41.67\n",
       "3       37.16\n",
       "4       30.00\n",
       "        ...  \n",
       "6492    40.01\n",
       "6493    11.07\n",
       "6494    24.62\n",
       "6495    47.51\n",
       "6496    40.69\n",
       "Name: profit, Length: 6497, dtype: float64"
      ]
     },
     "execution_count": 16,
     "metadata": {},
     "output_type": "execute_result"
    }
   ],
   "source": [
    "df['profit'] = df['price'] - df['cost']\n",
    "df.profit"
   ]
  },
  {
   "cell_type": "code",
   "execution_count": 29,
   "metadata": {},
   "outputs": [
    {
     "data": {
      "text/plain": [
       "<matplotlib.axes._subplots.AxesSubplot at 0x7fc9b9c3d390>"
      ]
     },
     "execution_count": 29,
     "metadata": {},
     "output_type": "execute_result"
    },
    {
     "data": {
      "image/png": "[encoded data removed]",
      "text/plain": [
       "<Figure size 432x288 with 1 Axes>"
      ]
     },
     "metadata": {
      "needs_background": "light"
     },
     "output_type": "display_data"
    }
   ],
   "source": [
    "df.profit.hist()"
   ]
  },
  {
   "cell_type": "code",
   "execution_count": 42,
   "metadata": {},
   "outputs": [
    {
     "data": {
      "text/plain": [
       "0    2.229197\n",
       "1    5.450342\n",
       "2    3.570694\n",
       "3    2.650499\n",
       "4    2.233805\n",
       "Name: margin, dtype: float64"
      ]
     },
     "execution_count": 42,
     "metadata": {},
     "output_type": "execute_result"
    }
   ],
   "source": [
    "df['margin'] = [(x - y)/y if y != 0 else 0 for x,y in zip(df.price,df.cost)]\n",
    "df.margin.head()"
   ]
  },
  {
   "cell_type": "code",
   "execution_count": 43,
   "metadata": {},
   "outputs": [
    {
     "data": {
      "text/plain": [
       "count    6497.000000\n",
       "mean       14.862270\n",
       "std       273.119195\n",
       "min     -4873.000000\n",
       "25%        -0.084323\n",
       "50%        14.083650\n",
       "75%        33.705882\n",
       "max      5025.000000\n",
       "Name: margin, dtype: float64"
      ]
     },
     "execution_count": 43,
     "metadata": {},
     "output_type": "execute_result"
    }
   ],
   "source": [
    "df.margin.describe()"
   ]
  },
  {
   "cell_type": "code",
   "execution_count": null,
   "metadata": {},
   "outputs": [],
   "source": []
  }
 ],
 "metadata": {
  "interpreter": {
   "hash": "a87913e96a684bf8c8bf97ade968e25ab5d9e5109cafb9f13130cd48b4ce9267"
  },
  "kernelspec": {
   "display_name": "Python 3.7.10 64-bit ('tensorflow': conda)",
   "language": "python",
   "name": "python3"
  },
  "language_info": {
   "codemirror_mode": {
    "name": "ipython",
    "version": 3
   },
   "file_extension": ".py",
   "mimetype": "text/x-python",
   "name": "python",
   "nbconvert_exporter": "python",
   "pygments_lexer": "ipython3",
   "version": "3.7.6"
  },
  "orig_nbformat": 4
 },
 "nbformat": 4,
 "nbformat_minor": 2
}
